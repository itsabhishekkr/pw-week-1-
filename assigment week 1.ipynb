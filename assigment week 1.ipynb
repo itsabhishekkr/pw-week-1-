{
 "cells": [
  {
   "cell_type": "markdown",
   "id": "ccf5cf4b",
   "metadata": {},
   "source": [
    "# Q1. Create one variable containing following type of data:\n",
    "(i) string\n",
    "(ii) list\n",
    "(iii) float\n",
    "(iv) tuple"
   ]
  },
  {
   "cell_type": "code",
   "execution_count": 3,
   "id": "71ae71f3",
   "metadata": {},
   "outputs": [
    {
     "name": "stdout",
     "output_type": "stream",
     "text": [
      "ram is going to patna\n",
      "<class 'str'>\n",
      "[2, 5, 6, 7, 8, 'sjh']\n",
      "<class 'list'>\n",
      "9.2\n",
      "<class 'float'>\n",
      "(4, 5, 'ram')\n",
      "<class 'tuple'>\n"
     ]
    }
   ],
   "source": [
    "a=\"ram is going to patna\"\n",
    "print(a)\n",
    "print(type(a))\n",
    "b=[2,5,6,7,8,\"sjh\"]\n",
    "print(b)\n",
    "print(type(b))\n",
    "c=4.6*2\n",
    "print(c)\n",
    "print(type(c))\n",
    "d=(4,5,\"ram\")\n",
    "print(d)\n",
    "print(type(d))\n"
   ]
  },
  {
   "cell_type": "markdown",
   "id": "b2ed1b5a",
   "metadata": {},
   "source": [
    "# Q2. Given are some following variables containing data:\n",
    "(i) var1 = ‘ ‘# string\n",
    "(ii) var2 = ‘[ DS , ML , Python]’#string\n",
    "(iii) var3 = [ ‘DS’ , ’ML’ , ‘Python’ ]#list\n",
    "(iv) var4 = 1.# float"
   ]
  },
  {
   "cell_type": "markdown",
   "id": "649808dd",
   "metadata": {},
   "source": [
    "# Q3. Explain the use of the following operators using an example:\n",
    "(i) /\n",
    "(ii) %\n",
    "(iii) //\n",
    "(iv) **"
   ]
  },
  {
   "cell_type": "code",
   "execution_count": 1,
   "id": "4cfb06d3",
   "metadata": {},
   "outputs": [
    {
     "name": "stdout",
     "output_type": "stream",
     "text": [
      "4.166666666666667\n",
      "1\n",
      "4\n",
      "16\n"
     ]
    }
   ],
   "source": [
    "print(25/6)# divide\n",
    "print(25%6)#remainder\n",
    "print(25//6)#greatest integer\n",
    "print(2**4)#exponet=4 is power of 2"
   ]
  },
  {
   "cell_type": "markdown",
   "id": "e2334b30",
   "metadata": {},
   "source": [
    "# Q4. Create a list of length 10 of your choice containing multiple types of data. Using for loop print the\n",
    "element and its data type."
   ]
  },
  {
   "cell_type": "markdown",
   "id": "4bb5e311",
   "metadata": {},
   "source": [
    "l=[]\n",
    "for i in range(10):\n",
    "    m=input()\n",
    "    l.append(m)\n",
    "print(l)\n",
    "print(len(l))"
   ]
  },
  {
   "cell_type": "markdown",
   "id": "22edf0a6",
   "metadata": {},
   "source": [
    "# Q5. Using a while loop, verify if the number A is purely divisible by number B and if so then how many times it can be divisible."
   ]
  },
  {
   "cell_type": "code",
   "execution_count": 2,
   "id": "8da0a76a",
   "metadata": {},
   "outputs": [
    {
     "name": "stdout",
     "output_type": "stream",
     "text": [
      "enter number5\n"
     ]
    },
    {
     "ename": "KeyboardInterrupt",
     "evalue": "",
     "output_type": "error",
     "traceback": [
      "\u001b[1;31m---------------------------------------------------------------------------\u001b[0m",
      "\u001b[1;31mKeyboardInterrupt\u001b[0m                         Traceback (most recent call last)",
      "Cell \u001b[1;32mIn[2], line 3\u001b[0m\n\u001b[0;32m      1\u001b[0m i\u001b[38;5;241m=\u001b[39m\u001b[38;5;241m1\u001b[39m\n\u001b[0;32m      2\u001b[0m b\u001b[38;5;241m=\u001b[39m\u001b[38;5;28mint\u001b[39m(\u001b[38;5;28minput\u001b[39m(\u001b[38;5;124m\"\u001b[39m\u001b[38;5;124menter number\u001b[39m\u001b[38;5;124m\"\u001b[39m))\n\u001b[1;32m----> 3\u001b[0m \u001b[38;5;28;01mwhile\u001b[39;00m(\u001b[43mi\u001b[49m\u001b[38;5;241;43m<\u001b[39;49m\u001b[43mb\u001b[49m):\n\u001b[0;32m      4\u001b[0m     \u001b[38;5;28;01mif\u001b[39;00m(b\u001b[38;5;241m%\u001b[39mi\u001b[38;5;241m==\u001b[39m\u001b[38;5;241m0\u001b[39m):\n\u001b[0;32m      5\u001b[0m         i\u001b[38;5;241m=\u001b[39mi\u001b[38;5;241m+\u001b[39m\u001b[38;5;241m1\u001b[39m\n",
      "\u001b[1;31mKeyboardInterrupt\u001b[0m: "
     ]
    }
   ],
   "source": [
    "i=1\n",
    "b=int(input(\"enter number\"))\n",
    "while(i<b):\n",
    "    if(b%i==0):\n",
    "        i=i+1\n",
    "print(\"how much divisibal\",i)\n",
    "\n",
    "        "
   ]
  },
  {
   "cell_type": "markdown",
   "id": "b8f2c3c4",
   "metadata": {},
   "source": [
    "# Q6. Create a list containing 25 int type data. Using for loop and if-else condition print if the element is divisible by 3 or not."
   ]
  },
  {
   "cell_type": "code",
   "execution_count": 10,
   "id": "84668682",
   "metadata": {},
   "outputs": [
    {
     "name": "stdout",
     "output_type": "stream",
     "text": [
      "3 4 6 7 9 0 2\n",
      "[3, 4, 6, 7, 9, 0, 2]\n",
      "divisible by 3 [3, 6, 9, 0]\n",
      "not divisible by 3 [4, 7, 2]\n"
     ]
    }
   ],
   "source": [
    "m=input().split()\n",
    "l=[]\n",
    "a=[]\n",
    "b=[]\n",
    "for i in range(len(m)):\n",
    "    a.append(int(m[i]))\n",
    "    if(a[i]%3==0):\n",
    "        l.append(a[i])\n",
    "    else:\n",
    "        b.append(a[i])\n",
    "print(a)\n",
    "print(\"divisible by 3\",l)\n",
    "print(\"not divisible by 3\",b)        "
   ]
  },
  {
   "cell_type": "code",
   "execution_count": 11,
   "id": "69a7b76b",
   "metadata": {},
   "outputs": [
    {
     "name": "stdout",
     "output_type": "stream",
     "text": [
      "inter range7\n",
      "enter no4\n",
      "enter no6\n",
      "enter no7\n",
      "enter no7\n",
      "enter no8\n",
      "enter no6\n",
      "enter no3\n",
      "[4, 6, 7, 7, 8, 6, 3]\n",
      "divisible by 3 [6, 6, 3]\n",
      "not divisible by 3 [4, 7, 7, 8]\n"
     ]
    }
   ],
   "source": [
    "m=int(input(\"inter range\"))\n",
    "l=[]\n",
    "a=[]\n",
    "b=[]\n",
    "for i in range(m):\n",
    "    n=int(input(\"enter no\"))\n",
    "    a.append(n)\n",
    "    if(a[i]%3==0):\n",
    "        l.append(a[i])\n",
    "    else:\n",
    "        b.append(a[i])\n",
    "print(a)\n",
    "print(\"divisible by 3\",l)\n",
    "print(\"not divisible by 3\",b) "
   ]
  },
  {
   "cell_type": "markdown",
   "id": "5818fdd3",
   "metadata": {},
   "source": [
    "# Q7. What do you understand about mutable and immutable data types? Give examples for both showing this property."
   ]
  },
  {
   "cell_type": "code",
   "execution_count": 12,
   "id": "ac0b5c11",
   "metadata": {},
   "outputs": [
    {
     "name": "stdout",
     "output_type": "stream",
     "text": [
      "[3, 5, 9, 1, 6, 20]\n"
     ]
    }
   ],
   "source": [
    "a=[3,5,9,1,6,\"ram\"]\n",
    "a[5]=20\n",
    "print(a)# list is mutable\n"
   ]
  },
  {
   "cell_type": "code",
   "execution_count": 15,
   "id": "8b5e9003",
   "metadata": {},
   "outputs": [
    {
     "ename": "TypeError",
     "evalue": "'tuple' object does not support item assignment",
     "output_type": "error",
     "traceback": [
      "\u001b[1;31m---------------------------------------------------------------------------\u001b[0m",
      "\u001b[1;31mTypeError\u001b[0m                                 Traceback (most recent call last)",
      "Cell \u001b[1;32mIn[15], line 2\u001b[0m\n\u001b[0;32m      1\u001b[0m a\u001b[38;5;241m=\u001b[39m\u001b[38;5;241m3\u001b[39m,\u001b[38;5;241m7\u001b[39m,\u001b[38;5;241m9\u001b[39m,\u001b[38;5;241m5\u001b[39m\n\u001b[1;32m----> 2\u001b[0m a[\u001b[38;5;241m3\u001b[39m]\u001b[38;5;241m=\u001b[39m\u001b[38;5;241m2\u001b[39m\n\u001b[0;32m      3\u001b[0m \u001b[38;5;28mprint\u001b[39m(a)\n",
      "\u001b[1;31mTypeError\u001b[0m: 'tuple' object does not support item assignment"
     ]
    }
   ],
   "source": [
    "a=3,7,9,5\n",
    "a[3]=2\n",
    "print(a)#error due to tuple is immutable"
   ]
  },
  {
   "cell_type": "code",
   "execution_count": null,
   "id": "35a603c8",
   "metadata": {},
   "outputs": [],
   "source": []
  }
 ],
 "metadata": {
  "kernelspec": {
   "display_name": "Python 3 (ipykernel)",
   "language": "python",
   "name": "python3"
  },
  "language_info": {
   "codemirror_mode": {
    "name": "ipython",
    "version": 3
   },
   "file_extension": ".py",
   "mimetype": "text/x-python",
   "name": "python",
   "nbconvert_exporter": "python",
   "pygments_lexer": "ipython3",
   "version": "3.10.9"
  }
 },
 "nbformat": 4,
 "nbformat_minor": 5
}
